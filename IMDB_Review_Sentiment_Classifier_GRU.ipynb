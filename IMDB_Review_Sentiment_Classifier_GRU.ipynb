{
  "nbformat": 4,
  "nbformat_minor": 0,
  "metadata": {
    "colab": {
      "name": "IMDB_Review_Sentiment_Classifier_GRU.ipynb",
      "provenance": [],
      "collapsed_sections": []
    },
    "kernelspec": {
      "name": "python3",
      "display_name": "Python 3"
    },
    "accelerator": "GPU"
  },
  "cells": [
    {
      "cell_type": "code",
      "metadata": {
        "id": "07khLWlbIKY-"
      },
      "source": [
        "# Import the machine learning libraries.\n",
        "import numpy as np\n",
        "import keras as K\n",
        "from keras.preprocessing import sequence\n",
        "from keras.models import Sequential, Model\n",
        "from keras.layers import Dense, Input, Dropout, Activation, Embedding\n",
        "from keras.layers import GRU\n",
        "from keras.datasets import imdb\n",
        "\n",
        "import warnings\n",
        "warnings.filterwarnings('ignore')"
      ],
      "execution_count": 1,
      "outputs": []
    },
    {
      "cell_type": "code",
      "metadata": {
        "id": "vsYQsRsCI0tk",
        "colab": {
          "base_uri": "https://localhost:8080/"
        },
        "outputId": "c6fd77c8-84c7-408c-83ba-1a39993c4353"
      },
      "source": [
        "%%time\n",
        "max_words = 20000\n",
        "\n",
        "# Load the IMDB review sentiment dataset.\n",
        "# Split the dataset into the training set and test subsets.\n",
        "(X_train, y_train), (X_test, y_test) = imdb.load_data(num_words=max_words)\n",
        "print(X_train.shape, X_test.shape, y_train.shape, y_test.shape)"
      ],
      "execution_count": 2,
      "outputs": [
        {
          "output_type": "stream",
          "text": [
            "Downloading data from https://storage.googleapis.com/tensorflow/tf-keras-datasets/imdb.npz\n",
            "17465344/17464789 [==============================] - 1s 0us/step\n",
            "(25000,) (25000,) (25000,) (25000,)\n",
            "CPU times: user 4.29 s, sys: 290 ms, total: 4.58 s\n",
            "Wall time: 7.65 s\n"
          ],
          "name": "stdout"
        }
      ]
    },
    {
      "cell_type": "code",
      "metadata": {
        "id": "Bkw_U_otJFIN",
        "colab": {
          "base_uri": "https://localhost:8080/"
        },
        "outputId": "fcc4be73-84e4-4d56-c78b-33de0a25226f"
      },
      "source": [
        "max_review_length = 100\n",
        "X_train = K.preprocessing.sequence.pad_sequences(X_train, truncating='pre', padding='pre', maxlen=max_review_length)\n",
        "X_test = K.preprocessing.sequence.pad_sequences(X_test, truncating='pre', padding='pre', maxlen=max_review_length)\n",
        "\n",
        "print(X_train.shape, X_test.shape)"
      ],
      "execution_count": 3,
      "outputs": [
        {
          "output_type": "stream",
          "text": [
            "(25000, 100) (25000, 100)\n"
          ],
          "name": "stdout"
        }
      ]
    },
    {
      "cell_type": "code",
      "metadata": {
        "colab": {
          "base_uri": "https://localhost:8080/"
        },
        "id": "pBkM5fIiyN6n",
        "outputId": "d9b81e7f-d85d-482b-cf16-2fdbf8d7a1bf"
      },
      "source": [
        "# Build the model.\r\n",
        "model = Sequential()\r\n",
        "model.add(Embedding(max_words, 100, input_length=max_words))\r\n",
        "model.add(GRU(100))\r\n",
        "model.add(Dense(1, activation='sigmoid'))\r\n",
        "model.compile(loss='binary_crossentropy', optimizer='adam', metrics=['accuracy'])\r\n",
        "model.summary()"
      ],
      "execution_count": 4,
      "outputs": [
        {
          "output_type": "stream",
          "text": [
            "Model: \"sequential\"\n",
            "_________________________________________________________________\n",
            "Layer (type)                 Output Shape              Param #   \n",
            "=================================================================\n",
            "embedding (Embedding)        (None, 20000, 100)        2000000   \n",
            "_________________________________________________________________\n",
            "gru (GRU)                    (None, 100)               60600     \n",
            "_________________________________________________________________\n",
            "dense (Dense)                (None, 1)                 101       \n",
            "=================================================================\n",
            "Total params: 2,060,701\n",
            "Trainable params: 2,060,701\n",
            "Non-trainable params: 0\n",
            "_________________________________________________________________\n"
          ],
          "name": "stdout"
        }
      ]
    },
    {
      "cell_type": "code",
      "metadata": {
        "id": "ZiAuvRNULcKR",
        "colab": {
          "base_uri": "https://localhost:8080/",
          "height": 422
        },
        "outputId": "9f6eca51-9b1c-4525-c832-33d3df26f37f"
      },
      "source": [
        "# Visualize.\n",
        "from keras.utils import plot_model\n",
        "plot_model(model, show_shapes=True)"
      ],
      "execution_count": 5,
      "outputs": [
        {
          "output_type": "execute_result",
          "data": {
            "image/png": "[encoded data removed]",
            "text/plain": [
              "<IPython.core.display.Image object>"
            ]
          },
          "metadata": {
            "tags": []
          },
          "execution_count": 5
        }
      ]
    },
    {
      "cell_type": "code",
      "metadata": {
        "id": "nEDpvChxMFTI",
        "colab": {
          "base_uri": "https://localhost:8080/"
        },
        "outputId": "453666f8-faad-4f05-833a-17d9f2fa2f66"
      },
      "source": [
        "# Train the model.\n",
        "%%time\n",
        "batch_size = 32\n",
        "model.fit(X_train, y_train, batch_size = batch_size, epochs=10, validation_data = (X_test, y_test))"
      ],
      "execution_count": 6,
      "outputs": [
        {
          "output_type": "stream",
          "text": [
            "Epoch 1/10\n",
            "WARNING:tensorflow:Model was constructed with shape (None, 20000) for input KerasTensor(type_spec=TensorSpec(shape=(None, 20000), dtype=tf.float32, name='embedding_input'), name='embedding_input', description=\"created by layer 'embedding_input'\"), but it was called on an input with incompatible shape (None, 100).\n",
            "WARNING:tensorflow:Model was constructed with shape (None, 20000) for input KerasTensor(type_spec=TensorSpec(shape=(None, 20000), dtype=tf.float32, name='embedding_input'), name='embedding_input', description=\"created by layer 'embedding_input'\"), but it was called on an input with incompatible shape (None, 100).\n",
            "780/782 [============================>.] - ETA: 0s - loss: 0.5111 - accuracy: 0.7281WARNING:tensorflow:Model was constructed with shape (None, 20000) for input KerasTensor(type_spec=TensorSpec(shape=(None, 20000), dtype=tf.float32, name='embedding_input'), name='embedding_input', description=\"created by layer 'embedding_input'\"), but it was called on an input with incompatible shape (None, 100).\n",
            "782/782 [==============================] - 28s 27ms/step - loss: 0.5108 - accuracy: 0.7284 - val_loss: 0.3726 - val_accuracy: 0.8371\n",
            "Epoch 2/10\n",
            "782/782 [==============================] - 20s 26ms/step - loss: 0.2179 - accuracy: 0.9174 - val_loss: 0.3367 - val_accuracy: 0.8564\n",
            "Epoch 3/10\n",
            "782/782 [==============================] - 20s 26ms/step - loss: 0.1105 - accuracy: 0.9613 - val_loss: 0.4470 - val_accuracy: 0.8475\n",
            "Epoch 4/10\n",
            "782/782 [==============================] - 21s 27ms/step - loss: 0.0597 - accuracy: 0.9799 - val_loss: 0.5310 - val_accuracy: 0.8371\n",
            "Epoch 5/10\n",
            "782/782 [==============================] - 21s 27ms/step - loss: 0.0317 - accuracy: 0.9907 - val_loss: 0.5997 - val_accuracy: 0.8413\n",
            "Epoch 6/10\n",
            "782/782 [==============================] - 21s 26ms/step - loss: 0.0138 - accuracy: 0.9962 - val_loss: 0.7632 - val_accuracy: 0.8334\n",
            "Epoch 7/10\n",
            "782/782 [==============================] - 20s 26ms/step - loss: 0.0119 - accuracy: 0.9963 - val_loss: 0.8842 - val_accuracy: 0.8321\n",
            "Epoch 8/10\n",
            "782/782 [==============================] - 20s 26ms/step - loss: 0.0089 - accuracy: 0.9970 - val_loss: 0.8873 - val_accuracy: 0.8371\n",
            "Epoch 9/10\n",
            "782/782 [==============================] - 20s 26ms/step - loss: 0.0057 - accuracy: 0.9986 - val_loss: 1.1728 - val_accuracy: 0.8319\n",
            "Epoch 10/10\n",
            "782/782 [==============================] - 20s 26ms/step - loss: 0.0055 - accuracy: 0.9984 - val_loss: 0.9713 - val_accuracy: 0.8320\n",
            "CPU times: user 4min 50s, sys: 15.1 s, total: 5min 5s\n",
            "Wall time: 3min 32s\n"
          ],
          "name": "stdout"
        }
      ]
    },
    {
      "cell_type": "code",
      "metadata": {
        "id": "aRC_8-hkMpdy",
        "colab": {
          "base_uri": "https://localhost:8080/"
        },
        "outputId": "72ebfaf2-d9d9-420a-c562-9086ce32de05"
      },
      "source": [
        "# Evaluate the model.\n",
        "score, acc = model.evaluate(X_test, y_test, batch_size=batch_size)\n",
        "print('Test score:', score)\n",
        "print('Test accuracy:', acc)"
      ],
      "execution_count": 7,
      "outputs": [
        {
          "output_type": "stream",
          "text": [
            "782/782 [==============================] - 3s 4ms/step - loss: 0.9713 - accuracy: 0.8320\n",
            "Test score: 0.9712767004966736\n",
            "Test accuracy: 0.8320000171661377\n"
          ],
          "name": "stdout"
        }
      ]
    },
    {
      "cell_type": "code",
      "metadata": {
        "id": "92cn85k5Nsfd",
        "colab": {
          "base_uri": "https://localhost:8080/"
        },
        "outputId": "e188e309-1b0e-4797-cc74-79e78c426714"
      },
      "source": [
        "review = \"The movie was a great waste of time.\"\n",
        "print(f'New review: {review}')"
      ],
      "execution_count": 8,
      "outputs": [
        {
          "output_type": "stream",
          "text": [
            "New review: The movie was a great waste of time.\n"
          ],
          "name": "stdout"
        }
      ]
    },
    {
      "cell_type": "code",
      "metadata": {
        "id": "UlcvGotDOg1T",
        "colab": {
          "base_uri": "https://localhost:8080/"
        },
        "outputId": "4d544cd7-0ac9-4867-c71c-d71b3fa4ae87"
      },
      "source": [
        "d = imdb.get_word_index()\n",
        "words = review.split()\n",
        "review = []\n",
        "for word in words:\n",
        "    if word not in d:\n",
        "        review.append(2)\n",
        "    else:\n",
        "        review.append(d[word] + 3)\n",
        "print(f'review = {review}')\n",
        "review = sequence.pad_sequences([review], truncating='pre', padding='pre', maxlen=max_review_length)\n",
        "prediction = model.predict(review)\n",
        "print(f'Prediction (0 = Negative, 1 = positive) = {prediction}')"
      ],
      "execution_count": 9,
      "outputs": [
        {
          "output_type": "stream",
          "text": [
            "Downloading data from https://storage.googleapis.com/tensorflow/tf-keras-datasets/imdb_word_index.json\n",
            "1646592/1641221 [==============================] - 0s 0us/step\n",
            "review = [2, 20, 16, 6, 87, 437, 7, 2]\n",
            "WARNING:tensorflow:Model was constructed with shape (None, 20000) for input KerasTensor(type_spec=TensorSpec(shape=(None, 20000), dtype=tf.float32, name='embedding_input'), name='embedding_input', description=\"created by layer 'embedding_input'\"), but it was called on an input with incompatible shape (None, 100).\n",
            "Prediction (0 = Negative, 1 = positive) = [[0.42742285]]\n"
          ],
          "name": "stdout"
        }
      ]
    },
    {
      "cell_type": "code",
      "metadata": {
        "id": "3124wWjEQv50",
        "colab": {
          "base_uri": "https://localhost:8080/"
        },
        "outputId": "bdada885-1205-470d-a5f3-f591d0df45f6"
      },
      "source": [
        "review = \"It was a great movie\"\n",
        "print(f'New review: {review}')"
      ],
      "execution_count": 10,
      "outputs": [
        {
          "output_type": "stream",
          "text": [
            "New review: It was a great movie\n"
          ],
          "name": "stdout"
        }
      ]
    },
    {
      "cell_type": "code",
      "metadata": {
        "id": "cdXLB1aARcgV",
        "colab": {
          "base_uri": "https://localhost:8080/"
        },
        "outputId": "20b7183a-cdb6-4b6e-f097-95da5beb991e"
      },
      "source": [
        "d = imdb.get_word_index()\n",
        "words = review.split()\n",
        "review = []\n",
        "for word in words:\n",
        "    if word not in d:\n",
        "        review.append(2)\n",
        "    else:\n",
        "        review.append(d[word] + 3)\n",
        "print(f'review = {review}')\n",
        "review = sequence.pad_sequences([review], truncating='pre', padding='pre', maxlen=max_review_length)\n",
        "prediction = model.predict(review)\n",
        "print(f'Prediction (0 = Negative, 1 = positive) = {prediction}')"
      ],
      "execution_count": 11,
      "outputs": [
        {
          "output_type": "stream",
          "text": [
            "review = [2, 16, 6, 87, 20]\n",
            "Prediction (0 = Negative, 1 = positive) = [[0.93295264]]\n"
          ],
          "name": "stdout"
        }
      ]
    },
    {
      "cell_type": "code",
      "metadata": {
        "id": "GJK6DbFfRgBz",
        "colab": {
          "base_uri": "https://localhost:8080/"
        },
        "outputId": "cc66364c-929a-4458-c8ea-ec7b86835074"
      },
      "source": [
        "review = \"It is not period drama, of course. It's anti-period and anti-historical. But I actually like the concept of this fantasy world where Jane Austin is mixed with cocaine & modern language. So the concept is fine.\"\r\n",
        "print(f'New review: {review}')"
      ],
      "execution_count": 12,
      "outputs": [
        {
          "output_type": "stream",
          "text": [
            "New review: It is not period drama, of course. It's anti-period and anti-historical. But I actually like the concept of this fantasy world where Jane Austin is mixed with cocaine & modern language. So the concept is fine.\n"
          ],
          "name": "stdout"
        }
      ]
    },
    {
      "cell_type": "code",
      "metadata": {
        "colab": {
          "base_uri": "https://localhost:8080/"
        },
        "id": "RaqGWTNz2thB",
        "outputId": "8632c04b-2e00-4bef-fbf2-bae38c25c1d7"
      },
      "source": [
        "d = imdb.get_word_index()\r\n",
        "words = review.split()\r\n",
        "review = []\r\n",
        "for word in words:\r\n",
        "    if word not in d:\r\n",
        "        review.append(2)\r\n",
        "    else:\r\n",
        "        review.append(d[word] + 3)\r\n",
        "print(f'review = {review}')\r\n",
        "review = sequence.pad_sequences([review], truncating='pre', padding='pre', maxlen=max_review_length)\r\n",
        "prediction = model.predict(review)\r\n",
        "print(f'Prediction (0 = Negative, 1 = positive) = {prediction}')"
      ],
      "execution_count": 13,
      "outputs": [
        {
          "output_type": "stream",
          "text": [
            "review = [2, 9, 24, 810, 2, 7, 2, 2, 2, 5, 2, 2, 2, 165, 40, 4, 1120, 7, 14, 939, 182, 121, 2, 2, 9, 1849, 19, 7602, 2, 682, 2, 2, 4, 1120, 9, 2]\n",
            "Prediction (0 = Negative, 1 = positive) = [[0.97895503]]\n"
          ],
          "name": "stdout"
        }
      ]
    },
    {
      "cell_type": "code",
      "metadata": {
        "id": "xs4zMQ6h2vuN"
      },
      "source": [
        ""
      ],
      "execution_count": null,
      "outputs": []
    }
  ]
}